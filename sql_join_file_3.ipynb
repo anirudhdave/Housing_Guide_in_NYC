{
 "cells": [
  {
   "cell_type": "markdown",
   "metadata": {},
   "source": [
    "# DWD project - Team Anaconda"
   ]
  },
  {
   "cell_type": "markdown",
   "metadata": {},
   "source": [
    "### file 3 - joining crime and housing data using SQL"
   ]
  },
  {
   "cell_type": "markdown",
   "metadata": {},
   "source": [
    "### importing necesary packages for joining the tables"
   ]
  },
  {
   "cell_type": "code",
   "execution_count": 1,
   "metadata": {},
   "outputs": [],
   "source": [
    "# using sqlite3 package to run SQL queries and pandas to fine-tune our final dataset\n",
    "import sqlite3 as sq3\n",
    "import pandas as pd"
   ]
  },
  {
   "cell_type": "code",
   "execution_count": 4,
   "metadata": {},
   "outputs": [],
   "source": [
    "# opening database connection\n",
    "connection = sq3.connect('Final_Database.db')\n",
    "\n",
    "# creating the database cursor\n",
    "conn_cur = connection.cursor() \n",
    "\n",
    "# Create table - crimes that corresponds to crime data csv file\n",
    "conn_cur.execute('''CREATE TABLE crimes\n",
    "             ([CMPLNT_NUM] VARCHAR,[ADDR_PCT_CD] VARCHAR, [KY_CD] VARCHAR, [OFNS_DESC] VARCHAR, [LAW_CAT_CD] VARCHAR, [BORO_NM] VARCHAR, [year_for_complaint] VARCHAR, [zipcode] VARCHAR)''')\n",
    "          \n",
    "# Create table - rental that corresponds to  housing data csv file\n",
    "conn_cur.execute('''CREATE TABLE rental\n",
    "             ([ZIP CODE] VARCHAR,[SALE YEAR] VARCHAR, [Median Sale Price] VARCHAR, [Sales Count] VARCHAR)''')\n",
    "        \n",
    "\n",
    "connection.commit()"
   ]
  },
  {
   "cell_type": "markdown",
   "metadata": {},
   "source": [
    "### reading the csv files into the tables in the database"
   ]
  },
  {
   "cell_type": "code",
   "execution_count": 5,
   "metadata": {},
   "outputs": [
    {
     "name": "stderr",
     "output_type": "stream",
     "text": [
      "C:\\Anaconda\\lib\\site-packages\\pandas\\core\\generic.py:2130: UserWarning: The spaces in these column names will not be changed. In pandas versions < 0.14, spaces were converted to underscores.\n",
      "  dtype=dtype)\n"
     ]
    }
   ],
   "source": [
    "# reading the final_crime_file created from file 2\n",
    "crime_data = pd.read_csv('C:/Users/aniru/Desktop/DWD/final_crime_file.csv')\n",
    "\n",
    "# writing the crime_data dataframe to the crimes table in the database\n",
    "crime_data.to_sql('crimes', connection, if_exists = 'replace', index = False)\n",
    "\n",
    "# reading the Final_Median_Housing_File created from file 1\n",
    "housing_data = pd.read_csv ('C:/Users/aniru/Desktop/DWD/Final_Median_Housing_Data.csv')\n",
    "\n",
    "# writing the housing_data to the rental table in the database\n",
    "housing_data.to_sql('rental', connection, if_exists = 'replace', index = False) "
   ]
  },
  {
   "cell_type": "markdown",
   "metadata": {},
   "source": [
    "### Joining the tables 'rental' and 'crimes' that exist in the database"
   ]
  },
  {
   "cell_type": "code",
   "execution_count": 6,
   "metadata": {},
   "outputs": [
    {
     "name": "stdout",
     "output_type": "stream",
     "text": [
      "Wall time: 36min 41s\n"
     ]
    }
   ],
   "source": [
    "%%time\n",
    "# the joining code takes around 45 minutes to run\n",
    "conn_cur.execute('''\n",
    "SELECT * \n",
    "from crimes\n",
    "inner join rental on (crimes.zipcode || crimes.year_for_complaint = rental.\"ZIP CODE\" || rental.\"SALE YEAR\");\n",
    " ''')\n",
    "\n",
    "# storing the joined table to an object called results\n",
    "results = conn_cur.fetchall()"
   ]
  },
  {
   "cell_type": "markdown",
   "metadata": {},
   "source": [
    "### Fine-tuning the final dataset"
   ]
  },
  {
   "cell_type": "code",
   "execution_count": 7,
   "metadata": {},
   "outputs": [],
   "source": [
    "# extracting the column names and storing it in headers\n",
    "headers = conn_cur.description"
   ]
  },
  {
   "cell_type": "code",
   "execution_count": 8,
   "metadata": {},
   "outputs": [],
   "source": [
    "# assinging all column names in a list called hdr\n",
    "hdr = []\n",
    "for header in headers:\n",
    "    hdr.append(header[0])"
   ]
  },
  {
   "cell_type": "code",
   "execution_count": 18,
   "metadata": {},
   "outputs": [],
   "source": [
    "# assinging the joined dataframe to final_joined_df\n",
    "final_joined_df = pd.DataFrame(results, columns = hdr)"
   ]
  },
  {
   "cell_type": "code",
   "execution_count": 19,
   "metadata": {},
   "outputs": [],
   "source": [
    "# dropping columns that are not needed for further analysis\n",
    "final_joined_df = final_joined_df.drop(final_joined_df.columns[[1, 8, 9]], axis=1)"
   ]
  },
  {
   "cell_type": "code",
   "execution_count": 21,
   "metadata": {},
   "outputs": [
    {
     "data": {
      "text/html": [
       "<div>\n",
       "<style scoped>\n",
       "    .dataframe tbody tr th:only-of-type {\n",
       "        vertical-align: middle;\n",
       "    }\n",
       "\n",
       "    .dataframe tbody tr th {\n",
       "        vertical-align: top;\n",
       "    }\n",
       "\n",
       "    .dataframe thead th {\n",
       "        text-align: right;\n",
       "    }\n",
       "</style>\n",
       "<table border=\"1\" class=\"dataframe\">\n",
       "  <thead>\n",
       "    <tr style=\"text-align: right;\">\n",
       "      <th></th>\n",
       "      <th>CMPLNT_NUM</th>\n",
       "      <th>KY_CD</th>\n",
       "      <th>OFNS_DESC</th>\n",
       "      <th>LAW_CAT_CD</th>\n",
       "      <th>BORO_NM</th>\n",
       "      <th>year_for_complaint</th>\n",
       "      <th>zipcode</th>\n",
       "      <th>Median Sale Price</th>\n",
       "      <th>Sales Count</th>\n",
       "    </tr>\n",
       "  </thead>\n",
       "  <tbody>\n",
       "    <tr>\n",
       "      <th>0</th>\n",
       "      <td>712500291</td>\n",
       "      <td>233</td>\n",
       "      <td>SEX CRIMES</td>\n",
       "      <td>MISDEMEANOR</td>\n",
       "      <td>BRONX</td>\n",
       "      <td>2010</td>\n",
       "      <td>10465</td>\n",
       "      <td>398265.5</td>\n",
       "      <td>204</td>\n",
       "    </tr>\n",
       "    <tr>\n",
       "      <th>1</th>\n",
       "      <td>919517331</td>\n",
       "      <td>235</td>\n",
       "      <td>DANGEROUS DRUGS</td>\n",
       "      <td>MISDEMEANOR</td>\n",
       "      <td>BRONX</td>\n",
       "      <td>2010</td>\n",
       "      <td>10456</td>\n",
       "      <td>377975.0</td>\n",
       "      <td>64</td>\n",
       "    </tr>\n",
       "    <tr>\n",
       "      <th>2</th>\n",
       "      <td>439147997</td>\n",
       "      <td>578</td>\n",
       "      <td>HARRASSMENT 2</td>\n",
       "      <td>VIOLATION</td>\n",
       "      <td>MANHATTAN</td>\n",
       "      <td>2010</td>\n",
       "      <td>10026</td>\n",
       "      <td>650000.0</td>\n",
       "      <td>247</td>\n",
       "    </tr>\n",
       "    <tr>\n",
       "      <th>3</th>\n",
       "      <td>697384902</td>\n",
       "      <td>360</td>\n",
       "      <td>None</td>\n",
       "      <td>MISDEMEANOR</td>\n",
       "      <td>BROOKLYN</td>\n",
       "      <td>2010</td>\n",
       "      <td>11218</td>\n",
       "      <td>495000.0</td>\n",
       "      <td>231</td>\n",
       "    </tr>\n",
       "    <tr>\n",
       "      <th>4</th>\n",
       "      <td>500286412</td>\n",
       "      <td>352</td>\n",
       "      <td>CRIMINAL TRESPASS</td>\n",
       "      <td>MISDEMEANOR</td>\n",
       "      <td>BROOKLYN</td>\n",
       "      <td>2010</td>\n",
       "      <td>11213</td>\n",
       "      <td>475000.0</td>\n",
       "      <td>127</td>\n",
       "    </tr>\n",
       "  </tbody>\n",
       "</table>\n",
       "</div>"
      ],
      "text/plain": [
       "   CMPLNT_NUM  KY_CD          OFNS_DESC   LAW_CAT_CD    BORO_NM  \\\n",
       "0   712500291    233         SEX CRIMES  MISDEMEANOR      BRONX   \n",
       "1   919517331    235    DANGEROUS DRUGS  MISDEMEANOR      BRONX   \n",
       "2   439147997    578      HARRASSMENT 2    VIOLATION  MANHATTAN   \n",
       "3   697384902    360               None  MISDEMEANOR   BROOKLYN   \n",
       "4   500286412    352  CRIMINAL TRESPASS  MISDEMEANOR   BROOKLYN   \n",
       "\n",
       "   year_for_complaint  zipcode  Median Sale Price  Sales Count  \n",
       "0                2010    10465           398265.5          204  \n",
       "1                2010    10456           377975.0           64  \n",
       "2                2010    10026           650000.0          247  \n",
       "3                2010    11218           495000.0          231  \n",
       "4                2010    11213           475000.0          127  "
      ]
     },
     "execution_count": 21,
     "metadata": {},
     "output_type": "execute_result"
    }
   ],
   "source": [
    "# understanding what final_joined_df looks like\n",
    "final_joined_df.head(5)"
   ]
  },
  {
   "cell_type": "code",
   "execution_count": 16,
   "metadata": {},
   "outputs": [
    {
     "data": {
      "text/plain": [
       "3760638"
      ]
     },
     "execution_count": 16,
     "metadata": {},
     "output_type": "execute_result"
    }
   ],
   "source": [
    "# checking the number of rows in final_joined_df\n",
    "len(final_joined_df)"
   ]
  },
  {
   "cell_type": "code",
   "execution_count": 24,
   "metadata": {},
   "outputs": [],
   "source": [
    "# renaming the columns in final_joined_df\n",
    "final_joined_df = final_joined_df.rename(columns = {'KY_CD':'OFNS_CODE','LAW_CAT_CD':'OFNS_LEVEL','BORO_NM':'BOROUGH','year_for_complaint':'YEAR','zipcode':'ZIPCODE','Median Sale Price':'MEDIAN_SALE','Sales Count':'SALES_COUNT'})"
   ]
  },
  {
   "cell_type": "code",
   "execution_count": 26,
   "metadata": {},
   "outputs": [],
   "source": [
    "# closing the connection to the database\n",
    "connection.close()"
   ]
  },
  {
   "cell_type": "code",
   "execution_count": 27,
   "metadata": {},
   "outputs": [],
   "source": [
    "final_joined_df.to_csv('C:/Users/aniru/Desktop/DWD/final_joined_file.csv', index = False)"
   ]
  }
 ],
 "metadata": {
  "kernelspec": {
   "display_name": "Python 3",
   "language": "python",
   "name": "python3"
  },
  "language_info": {
   "codemirror_mode": {
    "name": "ipython",
    "version": 3
   },
   "file_extension": ".py",
   "mimetype": "text/x-python",
   "name": "python",
   "nbconvert_exporter": "python",
   "pygments_lexer": "ipython3",
   "version": "3.7.0"
  }
 },
 "nbformat": 4,
 "nbformat_minor": 2
}
