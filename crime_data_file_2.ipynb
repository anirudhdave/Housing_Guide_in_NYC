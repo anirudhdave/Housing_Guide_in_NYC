{
 "cells": [
  {
   "cell_type": "markdown",
   "metadata": {},
   "source": [
    "# DWD project - Team Anaconda"
   ]
  },
  {
   "cell_type": "markdown",
   "metadata": {},
   "source": [
    "### file 2 - NYPD crime data"
   ]
  },
  {
   "cell_type": "markdown",
   "metadata": {},
   "source": [
    "### Installing packages outside the default library and importing necessary libraries"
   ]
  },
  {
   "cell_type": "code",
   "execution_count": null,
   "metadata": {},
   "outputs": [],
   "source": [
    "# intalling a package called uszipcode using pip\n",
    "import sys\n",
    "!{sys.executable} -m pip install uszipcode"
   ]
  },
  {
   "cell_type": "code",
   "execution_count": 1,
   "metadata": {},
   "outputs": [],
   "source": [
    "#importing packages required for this python notebook\n",
    "import pandas as pd\n",
    "import numpy as np\n",
    "import matplotlib as plt\n",
    "import datetime as dt\n",
    "from uszipcode import Zipcode\n",
    "from uszipcode import SearchEngine\n"
   ]
  },
  {
   "cell_type": "markdown",
   "metadata": {},
   "source": [
    "### setting up the engine for the uszipcode package"
   ]
  },
  {
   "cell_type": "code",
   "execution_count": 2,
   "metadata": {},
   "outputs": [],
   "source": [
    "# argument (simple_zipcode) is set to True so that the smaller version of the package is used for faster pocessing\n",
    "search = SearchEngine(simple_zipcode=True)"
   ]
  },
  {
   "cell_type": "markdown",
   "metadata": {},
   "source": [
    "### reading the NYPD complaints data and exploring the dataset"
   ]
  },
  {
   "cell_type": "code",
   "execution_count": 3,
   "metadata": {},
   "outputs": [
    {
     "name": "stderr",
     "output_type": "stream",
     "text": [
      "C:\\Anaconda\\lib\\site-packages\\IPython\\core\\interactiveshell.py:2785: DtypeWarning: Columns (18) have mixed types. Specify dtype option on import or set low_memory=False.\n",
      "  interactivity=interactivity, compiler=compiler, result=result)\n"
     ]
    }
   ],
   "source": [
    "#takes 3-4 minutes to load dataframe\n",
    "complaints_raw = pd.read_csv(\"C:/Users/aniru/Desktop/DWD/NYPD_Complaint_Data_Historic.csv\")"
   ]
  },
  {
   "cell_type": "code",
   "execution_count": 4,
   "metadata": {},
   "outputs": [
    {
     "data": {
      "text/plain": [
       "(6036805, 35)"
      ]
     },
     "execution_count": 4,
     "metadata": {},
     "output_type": "execute_result"
    }
   ],
   "source": [
    "#exploring the number of rows and columns of the dataframe\n",
    "complaints_raw.shape"
   ]
  },
  {
   "cell_type": "code",
   "execution_count": 5,
   "metadata": {},
   "outputs": [
    {
     "name": "stdout",
     "output_type": "stream",
     "text": [
      "<class 'pandas.core.frame.DataFrame'>\n",
      "RangeIndex: 6036805 entries, 0 to 6036804\n",
      "Data columns (total 35 columns):\n",
      "CMPLNT_NUM           int64\n",
      "CMPLNT_FR_DT         object\n",
      "CMPLNT_FR_TM         object\n",
      "CMPLNT_TO_DT         object\n",
      "CMPLNT_TO_TM         object\n",
      "ADDR_PCT_CD          float64\n",
      "RPT_DT               object\n",
      "KY_CD                int64\n",
      "OFNS_DESC            object\n",
      "PD_CD                float64\n",
      "PD_DESC              object\n",
      "CRM_ATPT_CPTD_CD     object\n",
      "LAW_CAT_CD           object\n",
      "BORO_NM              object\n",
      "LOC_OF_OCCUR_DESC    object\n",
      "PREM_TYP_DESC        object\n",
      "JURIS_DESC           object\n",
      "JURISDICTION_CODE    float64\n",
      "PARKS_NM             object\n",
      "HADEVELOPT           object\n",
      "HOUSING_PSA          float64\n",
      "X_COORD_CD           float64\n",
      "Y_COORD_CD           float64\n",
      "SUSP_AGE_GROUP       object\n",
      "SUSP_RACE            object\n",
      "SUSP_SEX             object\n",
      "TRANSIT_DISTRICT     float64\n",
      "Latitude             float64\n",
      "Longitude            float64\n",
      "Lat_Lon              object\n",
      "PATROL_BORO          object\n",
      "STATION_NAME         object\n",
      "VIC_AGE_GROUP        object\n",
      "VIC_RACE             object\n",
      "VIC_SEX              object\n",
      "dtypes: float64(9), int64(2), object(24)\n",
      "memory usage: 1.6+ GB\n"
     ]
    }
   ],
   "source": [
    "#exploring the column names and data types asscoiated with these columns\n",
    "complaints_raw.info()"
   ]
  },
  {
   "cell_type": "code",
   "execution_count": 6,
   "metadata": {},
   "outputs": [
    {
     "data": {
      "text/plain": [
       "CMPLNT_NUM                 0\n",
       "CMPLNT_FR_DT             655\n",
       "CMPLNT_FR_TM              48\n",
       "CMPLNT_TO_DT         1541805\n",
       "CMPLNT_TO_TM         1537755\n",
       "ADDR_PCT_CD             2163\n",
       "RPT_DT                     0\n",
       "KY_CD                      0\n",
       "OFNS_DESC              18796\n",
       "PD_CD                   5201\n",
       "PD_DESC                 5201\n",
       "CRM_ATPT_CPTD_CD           7\n",
       "LAW_CAT_CD                 0\n",
       "BORO_NM                10219\n",
       "LOC_OF_OCCUR_DESC    1310078\n",
       "PREM_TYP_DESC          35740\n",
       "JURIS_DESC                 0\n",
       "JURISDICTION_CODE       5201\n",
       "PARKS_NM             6019855\n",
       "HADEVELOPT           5735354\n",
       "HOUSING_PSA          5567851\n",
       "X_COORD_CD             17299\n",
       "Y_COORD_CD             17299\n",
       "SUSP_AGE_GROUP       4472282\n",
       "SUSP_RACE            3103741\n",
       "SUSP_SEX             3237055\n",
       "TRANSIT_DISTRICT     5904683\n",
       "Latitude               17299\n",
       "Longitude              17299\n",
       "Lat_Lon                17299\n",
       "PATROL_BORO             5658\n",
       "STATION_NAME         5904683\n",
       "VIC_AGE_GROUP        1638441\n",
       "VIC_RACE                 305\n",
       "VIC_SEX                  304\n",
       "dtype: int64"
      ]
     },
     "execution_count": 6,
     "metadata": {},
     "output_type": "execute_result"
    }
   ],
   "source": [
    "# evaluate the number of na values in each column\n",
    "complaints_raw.isna().sum()"
   ]
  },
  {
   "cell_type": "code",
   "execution_count": 7,
   "metadata": {},
   "outputs": [],
   "source": [
    "# subsetting the dataframe to a new variable to discard the columns we don't need\n",
    "temp_raw = complaints_raw.iloc[:,[0,1,5,6,7,8,9,10,11,12,13,21,22,23,24,25,27,28,29,30]]"
   ]
  },
  {
   "cell_type": "code",
   "execution_count": 8,
   "metadata": {},
   "outputs": [
    {
     "data": {
      "text/plain": [
       "(6036805, 20)"
      ]
     },
     "execution_count": 8,
     "metadata": {},
     "output_type": "execute_result"
    }
   ],
   "source": [
    "# 15 columns removed from the original dataframe\n",
    "temp_raw.shape"
   ]
  },
  {
   "cell_type": "code",
   "execution_count": 9,
   "metadata": {},
   "outputs": [
    {
     "name": "stderr",
     "output_type": "stream",
     "text": [
      "C:\\Anaconda\\lib\\site-packages\\ipykernel_launcher.py:1: SettingWithCopyWarning: \n",
      "A value is trying to be set on a copy of a slice from a DataFrame\n",
      "\n",
      "See the caveats in the documentation: http://pandas.pydata.org/pandas-docs/stable/indexing.html#indexing-view-versus-copy\n",
      "  \"\"\"Entry point for launching an IPython kernel.\n",
      "C:\\Anaconda\\lib\\site-packages\\ipykernel_launcher.py:2: SettingWithCopyWarning: \n",
      "A value is trying to be set on a copy of a slice from a DataFrame\n",
      "\n",
      "See the caveats in the documentation: http://pandas.pydata.org/pandas-docs/stable/indexing.html#indexing-view-versus-copy\n",
      "  \n"
     ]
    }
   ],
   "source": [
    "# drop the rows with na values in the CMPLNT_FR_DT and Latitude column and reassign the new dataframe back into 'temp_raw' using inplace argument\n",
    "temp_raw.dropna(subset = ['CMPLNT_FR_DT'], inplace = True)\n",
    "temp_raw.dropna(subset = ['Latitude'], inplace = True)"
   ]
  },
  {
   "cell_type": "code",
   "execution_count": 10,
   "metadata": {},
   "outputs": [
    {
     "data": {
      "text/html": [
       "<div>\n",
       "<style scoped>\n",
       "    .dataframe tbody tr th:only-of-type {\n",
       "        vertical-align: middle;\n",
       "    }\n",
       "\n",
       "    .dataframe tbody tr th {\n",
       "        vertical-align: top;\n",
       "    }\n",
       "\n",
       "    .dataframe thead th {\n",
       "        text-align: right;\n",
       "    }\n",
       "</style>\n",
       "<table border=\"1\" class=\"dataframe\">\n",
       "  <thead>\n",
       "    <tr style=\"text-align: right;\">\n",
       "      <th></th>\n",
       "      <th>CMPLNT_NUM</th>\n",
       "      <th>CMPLNT_FR_DT</th>\n",
       "      <th>ADDR_PCT_CD</th>\n",
       "      <th>RPT_DT</th>\n",
       "      <th>KY_CD</th>\n",
       "      <th>OFNS_DESC</th>\n",
       "      <th>PD_CD</th>\n",
       "      <th>PD_DESC</th>\n",
       "      <th>CRM_ATPT_CPTD_CD</th>\n",
       "      <th>LAW_CAT_CD</th>\n",
       "      <th>BORO_NM</th>\n",
       "      <th>X_COORD_CD</th>\n",
       "      <th>Y_COORD_CD</th>\n",
       "      <th>SUSP_AGE_GROUP</th>\n",
       "      <th>SUSP_RACE</th>\n",
       "      <th>SUSP_SEX</th>\n",
       "      <th>Latitude</th>\n",
       "      <th>Longitude</th>\n",
       "      <th>Lat_Lon</th>\n",
       "      <th>PATROL_BORO</th>\n",
       "    </tr>\n",
       "  </thead>\n",
       "  <tbody>\n",
       "    <tr>\n",
       "      <th>0</th>\n",
       "      <td>134551608</td>\n",
       "      <td>05/11/2008</td>\n",
       "      <td>25.0</td>\n",
       "      <td>05/11/2010</td>\n",
       "      <td>104</td>\n",
       "      <td>RAPE</td>\n",
       "      <td>157.0</td>\n",
       "      <td>RAPE 1</td>\n",
       "      <td>COMPLETED</td>\n",
       "      <td>FELONY</td>\n",
       "      <td>MANHATTAN</td>\n",
       "      <td>1000555.0</td>\n",
       "      <td>230994.0</td>\n",
       "      <td>25-44</td>\n",
       "      <td>BLACK</td>\n",
       "      <td>M</td>\n",
       "      <td>40.800694</td>\n",
       "      <td>-73.941109</td>\n",
       "      <td>(40.800694331, -73.941109286)</td>\n",
       "      <td>PATROL BORO MAN NORTH</td>\n",
       "    </tr>\n",
       "    <tr>\n",
       "      <th>1</th>\n",
       "      <td>942278690</td>\n",
       "      <td>04/01/2008</td>\n",
       "      <td>13.0</td>\n",
       "      <td>05/11/2010</td>\n",
       "      <td>112</td>\n",
       "      <td>THEFT-FRAUD</td>\n",
       "      <td>739.0</td>\n",
       "      <td>FRAUD,UNCLASSIFIED-FELONY</td>\n",
       "      <td>COMPLETED</td>\n",
       "      <td>FELONY</td>\n",
       "      <td>MANHATTAN</td>\n",
       "      <td>985985.0</td>\n",
       "      <td>210396.0</td>\n",
       "      <td>NaN</td>\n",
       "      <td>NaN</td>\n",
       "      <td>NaN</td>\n",
       "      <td>40.744173</td>\n",
       "      <td>-73.993740</td>\n",
       "      <td>(40.744173068, -73.993740104)</td>\n",
       "      <td>PATROL BORO MAN SOUTH</td>\n",
       "    </tr>\n",
       "    <tr>\n",
       "      <th>2</th>\n",
       "      <td>841316085</td>\n",
       "      <td>10/12/2007</td>\n",
       "      <td>105.0</td>\n",
       "      <td>05/11/2010</td>\n",
       "      <td>111</td>\n",
       "      <td>POSSESSION OF STOLEN PROPERTY</td>\n",
       "      <td>494.0</td>\n",
       "      <td>STOLEN PROPERTY 2,1,POSSESSION</td>\n",
       "      <td>COMPLETED</td>\n",
       "      <td>FELONY</td>\n",
       "      <td>QUEENS</td>\n",
       "      <td>1057812.0</td>\n",
       "      <td>182900.0</td>\n",
       "      <td>25-44</td>\n",
       "      <td>BLACK</td>\n",
       "      <td>M</td>\n",
       "      <td>40.668398</td>\n",
       "      <td>-73.734829</td>\n",
       "      <td>(40.668397595, -73.734828863)</td>\n",
       "      <td>PATROL BORO QUEENS SOUTH</td>\n",
       "    </tr>\n",
       "    <tr>\n",
       "      <th>3</th>\n",
       "      <td>196706982</td>\n",
       "      <td>02/01/2006</td>\n",
       "      <td>49.0</td>\n",
       "      <td>05/11/2010</td>\n",
       "      <td>109</td>\n",
       "      <td>GRAND LARCENY</td>\n",
       "      <td>438.0</td>\n",
       "      <td>LARCENY,GRAND FROM BUILDING (NON-RESIDENCE) UN...</td>\n",
       "      <td>COMPLETED</td>\n",
       "      <td>FELONY</td>\n",
       "      <td>BRONX</td>\n",
       "      <td>1023310.0</td>\n",
       "      <td>252911.0</td>\n",
       "      <td>NaN</td>\n",
       "      <td>NaN</td>\n",
       "      <td>NaN</td>\n",
       "      <td>40.860779</td>\n",
       "      <td>-73.858793</td>\n",
       "      <td>(40.860778855, -73.858792802)</td>\n",
       "      <td>PATROL BORO BRONX</td>\n",
       "    </tr>\n",
       "    <tr>\n",
       "      <th>4</th>\n",
       "      <td>558373322</td>\n",
       "      <td>12/19/2004</td>\n",
       "      <td>72.0</td>\n",
       "      <td>05/11/2010</td>\n",
       "      <td>112</td>\n",
       "      <td>THEFT-FRAUD</td>\n",
       "      <td>739.0</td>\n",
       "      <td>FRAUD,UNCLASSIFIED-FELONY</td>\n",
       "      <td>COMPLETED</td>\n",
       "      <td>FELONY</td>\n",
       "      <td>BROOKLYN</td>\n",
       "      <td>981082.0</td>\n",
       "      <td>174548.0</td>\n",
       "      <td>NaN</td>\n",
       "      <td>NaN</td>\n",
       "      <td>NaN</td>\n",
       "      <td>40.645778</td>\n",
       "      <td>-74.011417</td>\n",
       "      <td>(40.645778217, -74.0114174)</td>\n",
       "      <td>PATROL BORO BKLYN SOUTH</td>\n",
       "    </tr>\n",
       "    <tr>\n",
       "      <th>5</th>\n",
       "      <td>749992058</td>\n",
       "      <td>10/03/2004</td>\n",
       "      <td>113.0</td>\n",
       "      <td>05/11/2010</td>\n",
       "      <td>109</td>\n",
       "      <td>GRAND LARCENY</td>\n",
       "      <td>403.0</td>\n",
       "      <td>LARCENY,GRAND BY BANK ACCT COMPROMISE-REPRODUC...</td>\n",
       "      <td>COMPLETED</td>\n",
       "      <td>FELONY</td>\n",
       "      <td>QUEENS</td>\n",
       "      <td>1050728.0</td>\n",
       "      <td>191946.0</td>\n",
       "      <td>NaN</td>\n",
       "      <td>NaN</td>\n",
       "      <td>NaN</td>\n",
       "      <td>40.693283</td>\n",
       "      <td>-73.760276</td>\n",
       "      <td>(40.693282748, -73.760275537)</td>\n",
       "      <td>PATROL BORO QUEENS SOUTH</td>\n",
       "    </tr>\n",
       "    <tr>\n",
       "      <th>6</th>\n",
       "      <td>928336237</td>\n",
       "      <td>07/05/2001</td>\n",
       "      <td>19.0</td>\n",
       "      <td>05/11/2010</td>\n",
       "      <td>340</td>\n",
       "      <td>FRAUDS</td>\n",
       "      <td>718.0</td>\n",
       "      <td>FRAUD,UNCLASSIFIED-MISDEMEANOR</td>\n",
       "      <td>COMPLETED</td>\n",
       "      <td>MISDEMEANOR</td>\n",
       "      <td>MANHATTAN</td>\n",
       "      <td>998442.0</td>\n",
       "      <td>220387.0</td>\n",
       "      <td>NaN</td>\n",
       "      <td>NaN</td>\n",
       "      <td>NaN</td>\n",
       "      <td>40.771585</td>\n",
       "      <td>-73.948764</td>\n",
       "      <td>(40.771584595, -73.948763653)</td>\n",
       "      <td>PATROL BORO MAN NORTH</td>\n",
       "    </tr>\n",
       "    <tr>\n",
       "      <th>7</th>\n",
       "      <td>523218018</td>\n",
       "      <td>01/01/1999</td>\n",
       "      <td>102.0</td>\n",
       "      <td>05/11/2010</td>\n",
       "      <td>104</td>\n",
       "      <td>RAPE</td>\n",
       "      <td>157.0</td>\n",
       "      <td>RAPE 1</td>\n",
       "      <td>COMPLETED</td>\n",
       "      <td>FELONY</td>\n",
       "      <td>QUEENS</td>\n",
       "      <td>1030954.0</td>\n",
       "      <td>193887.0</td>\n",
       "      <td>25-44</td>\n",
       "      <td>UNKNOWN</td>\n",
       "      <td>M</td>\n",
       "      <td>40.698737</td>\n",
       "      <td>-73.831569</td>\n",
       "      <td>(40.698736773, -73.831568765)</td>\n",
       "      <td>PATROL BORO QUEENS SOUTH</td>\n",
       "    </tr>\n",
       "    <tr>\n",
       "      <th>8</th>\n",
       "      <td>712500291</td>\n",
       "      <td>05/10/2010</td>\n",
       "      <td>45.0</td>\n",
       "      <td>05/10/2010</td>\n",
       "      <td>233</td>\n",
       "      <td>SEX CRIMES</td>\n",
       "      <td>681.0</td>\n",
       "      <td>CHILD, ENDANGERING WELFARE</td>\n",
       "      <td>COMPLETED</td>\n",
       "      <td>MISDEMEANOR</td>\n",
       "      <td>BRONX</td>\n",
       "      <td>1032047.0</td>\n",
       "      <td>242037.0</td>\n",
       "      <td>25-44</td>\n",
       "      <td>BLACK</td>\n",
       "      <td>F</td>\n",
       "      <td>40.830890</td>\n",
       "      <td>-73.827285</td>\n",
       "      <td>(40.830889993, -73.82728462)</td>\n",
       "      <td>PATROL BORO BRONX</td>\n",
       "    </tr>\n",
       "    <tr>\n",
       "      <th>9</th>\n",
       "      <td>919517331</td>\n",
       "      <td>05/10/2010</td>\n",
       "      <td>44.0</td>\n",
       "      <td>05/10/2010</td>\n",
       "      <td>235</td>\n",
       "      <td>DANGEROUS DRUGS</td>\n",
       "      <td>567.0</td>\n",
       "      <td>MARIJUANA, POSSESSION 4 &amp; 5</td>\n",
       "      <td>COMPLETED</td>\n",
       "      <td>MISDEMEANOR</td>\n",
       "      <td>BRONX</td>\n",
       "      <td>1008692.0</td>\n",
       "      <td>243109.0</td>\n",
       "      <td>NaN</td>\n",
       "      <td>NaN</td>\n",
       "      <td>NaN</td>\n",
       "      <td>40.833928</td>\n",
       "      <td>-73.911675</td>\n",
       "      <td>(40.833927834, -73.911675082)</td>\n",
       "      <td>PATROL BORO BRONX</td>\n",
       "    </tr>\n",
       "  </tbody>\n",
       "</table>\n",
       "</div>"
      ],
      "text/plain": [
       "   CMPLNT_NUM CMPLNT_FR_DT  ADDR_PCT_CD      RPT_DT  KY_CD  \\\n",
       "0   134551608   05/11/2008         25.0  05/11/2010    104   \n",
       "1   942278690   04/01/2008         13.0  05/11/2010    112   \n",
       "2   841316085   10/12/2007        105.0  05/11/2010    111   \n",
       "3   196706982   02/01/2006         49.0  05/11/2010    109   \n",
       "4   558373322   12/19/2004         72.0  05/11/2010    112   \n",
       "5   749992058   10/03/2004        113.0  05/11/2010    109   \n",
       "6   928336237   07/05/2001         19.0  05/11/2010    340   \n",
       "7   523218018   01/01/1999        102.0  05/11/2010    104   \n",
       "8   712500291   05/10/2010         45.0  05/10/2010    233   \n",
       "9   919517331   05/10/2010         44.0  05/10/2010    235   \n",
       "\n",
       "                       OFNS_DESC  PD_CD  \\\n",
       "0                           RAPE  157.0   \n",
       "1                    THEFT-FRAUD  739.0   \n",
       "2  POSSESSION OF STOLEN PROPERTY  494.0   \n",
       "3                  GRAND LARCENY  438.0   \n",
       "4                    THEFT-FRAUD  739.0   \n",
       "5                  GRAND LARCENY  403.0   \n",
       "6                         FRAUDS  718.0   \n",
       "7                           RAPE  157.0   \n",
       "8                     SEX CRIMES  681.0   \n",
       "9                DANGEROUS DRUGS  567.0   \n",
       "\n",
       "                                             PD_DESC CRM_ATPT_CPTD_CD  \\\n",
       "0                                             RAPE 1        COMPLETED   \n",
       "1                          FRAUD,UNCLASSIFIED-FELONY        COMPLETED   \n",
       "2                     STOLEN PROPERTY 2,1,POSSESSION        COMPLETED   \n",
       "3  LARCENY,GRAND FROM BUILDING (NON-RESIDENCE) UN...        COMPLETED   \n",
       "4                          FRAUD,UNCLASSIFIED-FELONY        COMPLETED   \n",
       "5  LARCENY,GRAND BY BANK ACCT COMPROMISE-REPRODUC...        COMPLETED   \n",
       "6                     FRAUD,UNCLASSIFIED-MISDEMEANOR        COMPLETED   \n",
       "7                                             RAPE 1        COMPLETED   \n",
       "8                         CHILD, ENDANGERING WELFARE        COMPLETED   \n",
       "9                        MARIJUANA, POSSESSION 4 & 5        COMPLETED   \n",
       "\n",
       "    LAW_CAT_CD    BORO_NM  X_COORD_CD  Y_COORD_CD SUSP_AGE_GROUP SUSP_RACE  \\\n",
       "0       FELONY  MANHATTAN   1000555.0    230994.0          25-44     BLACK   \n",
       "1       FELONY  MANHATTAN    985985.0    210396.0            NaN       NaN   \n",
       "2       FELONY     QUEENS   1057812.0    182900.0          25-44     BLACK   \n",
       "3       FELONY      BRONX   1023310.0    252911.0            NaN       NaN   \n",
       "4       FELONY   BROOKLYN    981082.0    174548.0            NaN       NaN   \n",
       "5       FELONY     QUEENS   1050728.0    191946.0            NaN       NaN   \n",
       "6  MISDEMEANOR  MANHATTAN    998442.0    220387.0            NaN       NaN   \n",
       "7       FELONY     QUEENS   1030954.0    193887.0          25-44   UNKNOWN   \n",
       "8  MISDEMEANOR      BRONX   1032047.0    242037.0          25-44     BLACK   \n",
       "9  MISDEMEANOR      BRONX   1008692.0    243109.0            NaN       NaN   \n",
       "\n",
       "  SUSP_SEX   Latitude  Longitude                        Lat_Lon  \\\n",
       "0        M  40.800694 -73.941109  (40.800694331, -73.941109286)   \n",
       "1      NaN  40.744173 -73.993740  (40.744173068, -73.993740104)   \n",
       "2        M  40.668398 -73.734829  (40.668397595, -73.734828863)   \n",
       "3      NaN  40.860779 -73.858793  (40.860778855, -73.858792802)   \n",
       "4      NaN  40.645778 -74.011417    (40.645778217, -74.0114174)   \n",
       "5      NaN  40.693283 -73.760276  (40.693282748, -73.760275537)   \n",
       "6      NaN  40.771585 -73.948764  (40.771584595, -73.948763653)   \n",
       "7        M  40.698737 -73.831569  (40.698736773, -73.831568765)   \n",
       "8        F  40.830890 -73.827285   (40.830889993, -73.82728462)   \n",
       "9      NaN  40.833928 -73.911675  (40.833927834, -73.911675082)   \n",
       "\n",
       "                PATROL_BORO  \n",
       "0     PATROL BORO MAN NORTH  \n",
       "1     PATROL BORO MAN SOUTH  \n",
       "2  PATROL BORO QUEENS SOUTH  \n",
       "3         PATROL BORO BRONX  \n",
       "4   PATROL BORO BKLYN SOUTH  \n",
       "5  PATROL BORO QUEENS SOUTH  \n",
       "6     PATROL BORO MAN NORTH  \n",
       "7  PATROL BORO QUEENS SOUTH  \n",
       "8         PATROL BORO BRONX  \n",
       "9         PATROL BORO BRONX  "
      ]
     },
     "execution_count": 10,
     "metadata": {},
     "output_type": "execute_result"
    }
   ],
   "source": [
    "# exploring the look of the dataframe using the head function\n",
    "temp_raw.head(10)"
   ]
  },
  {
   "cell_type": "markdown",
   "metadata": {},
   "source": [
    "### Extracting useful information from columns and cleaning the dataframe further"
   ]
  },
  {
   "cell_type": "code",
   "execution_count": 11,
   "metadata": {},
   "outputs": [
    {
     "name": "stderr",
     "output_type": "stream",
     "text": [
      "C:\\Anaconda\\lib\\site-packages\\ipykernel_launcher.py:2: SettingWithCopyWarning: \n",
      "A value is trying to be set on a copy of a slice from a DataFrame.\n",
      "Try using .loc[row_indexer,col_indexer] = value instead\n",
      "\n",
      "See the caveats in the documentation: http://pandas.pydata.org/pandas-docs/stable/indexing.html#indexing-view-versus-copy\n",
      "  \n"
     ]
    }
   ],
   "source": [
    "# converting the CMPLNT_FR_DT column to string type and splitting it over the '/' value to form a list in each cell\n",
    "temp_raw['year'] = temp_raw.CMPLNT_FR_DT.str.split('/')"
   ]
  },
  {
   "cell_type": "code",
   "execution_count": 12,
   "metadata": {},
   "outputs": [
    {
     "name": "stderr",
     "output_type": "stream",
     "text": [
      "C:\\Anaconda\\lib\\site-packages\\pandas\\core\\frame.py:3140: SettingWithCopyWarning: \n",
      "A value is trying to be set on a copy of a slice from a DataFrame.\n",
      "Try using .loc[row_indexer,col_indexer] = value instead\n",
      "\n",
      "See the caveats in the documentation: http://pandas.pydata.org/pandas-docs/stable/indexing.html#indexing-view-versus-copy\n",
      "  self[k1] = value[k2]\n"
     ]
    }
   ],
   "source": [
    "# breaking up the year column as month, day and year columns by extracting the year column as a list of lists  and using the same indexing as the temp_raw dataframe\n",
    "temp_raw[['month','day','year_for_complaint']] = pd.DataFrame(temp_raw.year.values.tolist(), index = temp_raw.index)"
   ]
  },
  {
   "cell_type": "code",
   "execution_count": 13,
   "metadata": {},
   "outputs": [],
   "source": [
    "# subsetting the dataframe to the same variable name to discard the columns we don't need\n",
    "temp_raw = temp_raw.iloc[:,[0,2,4,5,6,7,8,9,10,16,17,18,19,23]]"
   ]
  },
  {
   "cell_type": "code",
   "execution_count": 14,
   "metadata": {},
   "outputs": [],
   "source": [
    "# converting the 'year_for_complaint' columns as an integer to allow for easier cleaning later on\n",
    "temp_raw[['year_for_complaint']] = pd.to_numeric(temp_raw['year_for_complaint'], downcast='integer')"
   ]
  },
  {
   "cell_type": "code",
   "execution_count": 15,
   "metadata": {},
   "outputs": [
    {
     "data": {
      "text/plain": [
       "array([2008, 2007, 2006, 2004, 2001, 1999, 2010, 2009, 2003, 2005, 2002,\n",
       "       1996, 1989, 1981, 2000, 1998, 1997, 1910, 1985, 1920, 1986, 2011,\n",
       "       1980, 1994, 1977, 1995, 1992, 1990, 1968, 1938, 1993, 1941, 1911,\n",
       "       1950, 1991, 1984, 1979, 1970, 1971, 1959, 2012, 1909, 1912, 1978,\n",
       "       1972, 1975, 1988, 1942, 1983, 1982, 1973, 2013, 1913, 1955, 1987,\n",
       "       2014, 1958, 1914, 1974, 1930, 1945, 2015, 1954, 1015, 1965, 1915,\n",
       "       2016, 1916, 1960, 1966, 1016, 1026, 1976, 1969, 1946, 2017, 1027,\n",
       "       1017, 1917, 1957, 1967, 1947, 1956, 1922, 1906, 1962, 1961, 1905,\n",
       "       1900, 1964, 1908, 1948, 1929, 1919, 1940], dtype=int64)"
      ]
     },
     "execution_count": 15,
     "metadata": {},
     "output_type": "execute_result"
    }
   ],
   "source": [
    "# understanding that the year column has values that are not relevant to the timeline of the project i.e. years outside the range from 2010 to 2017\n",
    "temp_raw['year_for_complaint'].unique()"
   ]
  },
  {
   "cell_type": "markdown",
   "metadata": {},
   "source": [
    "### filling in missing values with the help of other columns in the dataset"
   ]
  },
  {
   "cell_type": "code",
   "execution_count": 16,
   "metadata": {},
   "outputs": [
    {
     "data": {
      "text/plain": [
       "array(['PATROL BORO MAN NORTH', 'PATROL BORO MAN SOUTH',\n",
       "       'PATROL BORO QUEENS SOUTH', 'PATROL BORO BRONX',\n",
       "       'PATROL BORO BKLYN SOUTH', 'PATROL BORO BKLYN NORTH',\n",
       "       'PATROL BORO STATEN ISLAND', 'PATROL BORO QUEENS NORTH', nan],\n",
       "      dtype=object)"
      ]
     },
     "execution_count": 16,
     "metadata": {},
     "output_type": "execute_result"
    }
   ],
   "source": [
    "# understanding what values the 'PATROL_BORO' column has\n",
    "temp_raw['PATROL_BORO'].unique()"
   ]
  },
  {
   "cell_type": "code",
   "execution_count": 17,
   "metadata": {},
   "outputs": [
    {
     "data": {
      "text/plain": [
       "array(['MANHATTAN', 'QUEENS', 'BRONX', 'BROOKLYN', 'STATEN ISLAND', nan],\n",
       "      dtype=object)"
      ]
     },
     "execution_count": 17,
     "metadata": {},
     "output_type": "execute_result"
    }
   ],
   "source": [
    "# understanding what values the 'BORO_NM' column has\n",
    "temp_raw['BORO_NM'].unique()"
   ]
  },
  {
   "cell_type": "code",
   "execution_count": 18,
   "metadata": {},
   "outputs": [],
   "source": [
    "# using the where command to find the rows where 'BORO_NM' has null values and replace them with the values from the 'PATROL BORO' column\n",
    "temp_raw['BORO_NM'] = np.where(temp_raw['BORO_NM'].isnull() == True, temp_raw['PATROL_BORO'], temp_raw['BORO_NM'])"
   ]
  },
  {
   "cell_type": "code",
   "execution_count": 19,
   "metadata": {},
   "outputs": [],
   "source": [
    "# renaming the values that were imported from the 'PATROL_BORO' column as borough names for the 'BORO_NM' column\n",
    "temp_raw['BORO_NM'] = np.where(temp_raw['BORO_NM'] == 'PATROL BORO BKLYN NORTH', 'BROOKLYN', temp_raw['BORO_NM'])\n",
    "temp_raw['BORO_NM'] = np.where(temp_raw['BORO_NM'] == 'PATROL BORO BKLYN SOUTH', 'BROOKLYN', temp_raw['BORO_NM'])\n",
    "temp_raw['BORO_NM'] = np.where(temp_raw['BORO_NM'] == 'PATROL BORO QUEENS NORTH', 'QUEENS', temp_raw['BORO_NM'])\n",
    "temp_raw['BORO_NM'] = np.where(temp_raw['BORO_NM'] == 'PATROL BORO QUEENS SOUTH', 'QUEENS', temp_raw['BORO_NM'])\n",
    "temp_raw['BORO_NM'] = np.where(temp_raw['BORO_NM'] == 'PATROL BORO MAN NORTH', 'MANHATTAN', temp_raw['BORO_NM'])\n",
    "temp_raw['BORO_NM'] = np.where(temp_raw['BORO_NM'] == 'PATROL BORO MAN SOUTH', 'MANHATTAN', temp_raw['BORO_NM'])\n",
    "temp_raw['BORO_NM'] = np.where(temp_raw['BORO_NM'] == 'PATROL BORO STATEN ISLAND', 'STATEN ISLAND', temp_raw['BORO_NM'])\n",
    "temp_raw['BORO_NM'] = np.where(temp_raw['BORO_NM'] == 'PATROL BORO BRONX', 'BRONX', temp_raw['BORO_NM'])"
   ]
  },
  {
   "cell_type": "code",
   "execution_count": 20,
   "metadata": {},
   "outputs": [
    {
     "data": {
      "text/plain": [
       "array(['MANHATTAN', 'QUEENS', 'BRONX', 'BROOKLYN', 'STATEN ISLAND', nan],\n",
       "      dtype=object)"
      ]
     },
     "execution_count": 20,
     "metadata": {},
     "output_type": "execute_result"
    }
   ],
   "source": [
    "# testing that the values in 'BORO_NM' column were successfully renamed\n",
    "temp_raw['BORO_NM'].unique()"
   ]
  },
  {
   "cell_type": "code",
   "execution_count": 21,
   "metadata": {},
   "outputs": [
    {
     "data": {
      "text/plain": [
       "CMPLNT_NUM                0\n",
       "ADDR_PCT_CD            1329\n",
       "KY_CD                     0\n",
       "OFNS_DESC             18681\n",
       "PD_CD                  4749\n",
       "PD_DESC                4749\n",
       "CRM_ATPT_CPTD_CD          7\n",
       "LAW_CAT_CD                0\n",
       "BORO_NM                4749\n",
       "Latitude                  0\n",
       "Longitude                 0\n",
       "Lat_Lon                   0\n",
       "PATROL_BORO            4827\n",
       "year_for_complaint        0\n",
       "dtype: int64"
      ]
     },
     "execution_count": 21,
     "metadata": {},
     "output_type": "execute_result"
    }
   ],
   "source": [
    "# 'BORO_NM' column went from 10219 null values to 4749 null values\n",
    "temp_raw.isna().sum()"
   ]
  },
  {
   "cell_type": "code",
   "execution_count": 22,
   "metadata": {},
   "outputs": [],
   "source": [
    "# subsetting the dataframe to the same variable name to discard the columns we don't need\n",
    "temp_raw = temp_raw.iloc[:,[0,1,2,3,7,8,9,10,13]]"
   ]
  },
  {
   "cell_type": "code",
   "execution_count": 23,
   "metadata": {},
   "outputs": [],
   "source": [
    "# rewriting null values in 'ADDR_PCT_CD' column to 999\n",
    "temp_raw['ADDR_PCT_CD'] = np.where(temp_raw['ADDR_PCT_CD'].isnull() == True, 999, temp_raw['ADDR_PCT_CD'])"
   ]
  },
  {
   "cell_type": "code",
   "execution_count": 24,
   "metadata": {},
   "outputs": [],
   "source": [
    "'''since precincts have sequential ranges for each borough,\n",
    "   the values in \"ADDR_PCT_CD\" column were checked to be within certain ranges \n",
    "   and the corresponding value in the \"BORO_NM\" column for the same row was updated to the correct Borough name\n",
    "'''\n",
    "temp_raw['BORO_NM'] = np.where((temp_raw['ADDR_PCT_CD'] >= 1.0) & (temp_raw['ADDR_PCT_CD'] <= 34.0), 'MANHATTAN' , temp_raw['BORO_NM'])\n",
    "temp_raw['BORO_NM'] = np.where((temp_raw['ADDR_PCT_CD'] >= 40.0) & (temp_raw['ADDR_PCT_CD'] <= 52.0), 'BRONX' , temp_raw['BORO_NM'])\n",
    "temp_raw['BORO_NM'] = np.where((temp_raw['ADDR_PCT_CD'] >= 60.0) & (temp_raw['ADDR_PCT_CD'] <= 94.0), 'BROOKLYN' , temp_raw['BORO_NM'])\n",
    "temp_raw['BORO_NM'] = np.where((temp_raw['ADDR_PCT_CD'] >= 100.0) & (temp_raw['ADDR_PCT_CD'] <= 115.0), 'QUEENS' , temp_raw['BORO_NM'])\n",
    "temp_raw['BORO_NM'] = np.where((temp_raw['ADDR_PCT_CD'] >= 120.0) & (temp_raw['ADDR_PCT_CD'] <= 123.0), 'STATEN ISLAND' , temp_raw['BORO_NM'])"
   ]
  },
  {
   "cell_type": "code",
   "execution_count": 25,
   "metadata": {},
   "outputs": [
    {
     "data": {
      "text/plain": [
       "CMPLNT_NUM                0\n",
       "ADDR_PCT_CD               0\n",
       "KY_CD                     0\n",
       "OFNS_DESC             18681\n",
       "LAW_CAT_CD                0\n",
       "BORO_NM                1327\n",
       "Latitude                  0\n",
       "Longitude                 0\n",
       "year_for_complaint        0\n",
       "dtype: int64"
      ]
     },
     "execution_count": 25,
     "metadata": {},
     "output_type": "execute_result"
    }
   ],
   "source": [
    "# 'BORO_NM' column went from 4749 null values to 1327 null values\n",
    "temp_raw.isna().sum()"
   ]
  },
  {
   "cell_type": "code",
   "execution_count": 26,
   "metadata": {},
   "outputs": [
    {
     "data": {
      "text/html": [
       "<div>\n",
       "<style scoped>\n",
       "    .dataframe tbody tr th:only-of-type {\n",
       "        vertical-align: middle;\n",
       "    }\n",
       "\n",
       "    .dataframe tbody tr th {\n",
       "        vertical-align: top;\n",
       "    }\n",
       "\n",
       "    .dataframe thead th {\n",
       "        text-align: right;\n",
       "    }\n",
       "</style>\n",
       "<table border=\"1\" class=\"dataframe\">\n",
       "  <thead>\n",
       "    <tr style=\"text-align: right;\">\n",
       "      <th></th>\n",
       "      <th>CMPLNT_NUM</th>\n",
       "      <th>ADDR_PCT_CD</th>\n",
       "      <th>KY_CD</th>\n",
       "      <th>OFNS_DESC</th>\n",
       "      <th>LAW_CAT_CD</th>\n",
       "      <th>BORO_NM</th>\n",
       "      <th>Latitude</th>\n",
       "      <th>Longitude</th>\n",
       "      <th>year_for_complaint</th>\n",
       "    </tr>\n",
       "  </thead>\n",
       "  <tbody>\n",
       "    <tr>\n",
       "      <th>0</th>\n",
       "      <td>134551608</td>\n",
       "      <td>25.0</td>\n",
       "      <td>104</td>\n",
       "      <td>RAPE</td>\n",
       "      <td>FELONY</td>\n",
       "      <td>MANHATTAN</td>\n",
       "      <td>40.800694</td>\n",
       "      <td>-73.941109</td>\n",
       "      <td>2008</td>\n",
       "    </tr>\n",
       "    <tr>\n",
       "      <th>1</th>\n",
       "      <td>942278690</td>\n",
       "      <td>13.0</td>\n",
       "      <td>112</td>\n",
       "      <td>THEFT-FRAUD</td>\n",
       "      <td>FELONY</td>\n",
       "      <td>MANHATTAN</td>\n",
       "      <td>40.744173</td>\n",
       "      <td>-73.993740</td>\n",
       "      <td>2008</td>\n",
       "    </tr>\n",
       "    <tr>\n",
       "      <th>2</th>\n",
       "      <td>841316085</td>\n",
       "      <td>105.0</td>\n",
       "      <td>111</td>\n",
       "      <td>POSSESSION OF STOLEN PROPERTY</td>\n",
       "      <td>FELONY</td>\n",
       "      <td>QUEENS</td>\n",
       "      <td>40.668398</td>\n",
       "      <td>-73.734829</td>\n",
       "      <td>2007</td>\n",
       "    </tr>\n",
       "    <tr>\n",
       "      <th>3</th>\n",
       "      <td>196706982</td>\n",
       "      <td>49.0</td>\n",
       "      <td>109</td>\n",
       "      <td>GRAND LARCENY</td>\n",
       "      <td>FELONY</td>\n",
       "      <td>BRONX</td>\n",
       "      <td>40.860779</td>\n",
       "      <td>-73.858793</td>\n",
       "      <td>2006</td>\n",
       "    </tr>\n",
       "    <tr>\n",
       "      <th>4</th>\n",
       "      <td>558373322</td>\n",
       "      <td>72.0</td>\n",
       "      <td>112</td>\n",
       "      <td>THEFT-FRAUD</td>\n",
       "      <td>FELONY</td>\n",
       "      <td>BROOKLYN</td>\n",
       "      <td>40.645778</td>\n",
       "      <td>-74.011417</td>\n",
       "      <td>2004</td>\n",
       "    </tr>\n",
       "  </tbody>\n",
       "</table>\n",
       "</div>"
      ],
      "text/plain": [
       "   CMPLNT_NUM  ADDR_PCT_CD  KY_CD                      OFNS_DESC LAW_CAT_CD  \\\n",
       "0   134551608         25.0    104                           RAPE     FELONY   \n",
       "1   942278690         13.0    112                    THEFT-FRAUD     FELONY   \n",
       "2   841316085        105.0    111  POSSESSION OF STOLEN PROPERTY     FELONY   \n",
       "3   196706982         49.0    109                  GRAND LARCENY     FELONY   \n",
       "4   558373322         72.0    112                    THEFT-FRAUD     FELONY   \n",
       "\n",
       "     BORO_NM   Latitude  Longitude  year_for_complaint  \n",
       "0  MANHATTAN  40.800694 -73.941109                2008  \n",
       "1  MANHATTAN  40.744173 -73.993740                2008  \n",
       "2     QUEENS  40.668398 -73.734829                2007  \n",
       "3      BRONX  40.860779 -73.858793                2006  \n",
       "4   BROOKLYN  40.645778 -74.011417                2004  "
      ]
     },
     "execution_count": 26,
     "metadata": {},
     "output_type": "execute_result"
    }
   ],
   "source": [
    "# rounding the values in Latitude and Longitude columns to 6 decimal places\n",
    "temp_raw['Latitude'] = temp_raw['Latitude'].round(6)\n",
    "temp_raw['Longitude'] = temp_raw['Longitude'].round(6)\n",
    "temp_raw.head()"
   ]
  },
  {
   "cell_type": "code",
   "execution_count": 27,
   "metadata": {},
   "outputs": [],
   "source": [
    "# subsetting the dataframe to keep rows with years between 2010 and 2017\n",
    "temp_raw = temp_raw[(temp_raw['year_for_complaint'] >= 2010) & (temp_raw['year_for_complaint'] <= 2017)]"
   ]
  },
  {
   "cell_type": "code",
   "execution_count": 28,
   "metadata": {},
   "outputs": [],
   "source": [
    "# the index wasn't sequential, so it is reset to a sequential set of integers\n",
    "temp_raw.index = range(0,len(temp_raw))`"
   ]
  },
  {
   "cell_type": "code",
   "execution_count": 29,
   "metadata": {},
   "outputs": [
    {
     "data": {
      "text/plain": [
       "(3912883, 9)"
      ]
     },
     "execution_count": 29,
     "metadata": {},
     "output_type": "execute_result"
    }
   ],
   "source": [
    "# understanding the sahope of the dataset upto this stage\n",
    "temp_raw.shape"
   ]
  },
  {
   "cell_type": "code",
   "execution_count": 30,
   "metadata": {},
   "outputs": [],
   "source": [
    "# subsetting the dataframe to get the Latitude and Longitude columns\n",
    "lat_long_df = temp_raw.iloc[:,[6,7]]"
   ]
  },
  {
   "cell_type": "code",
   "execution_count": 31,
   "metadata": {},
   "outputs": [
    {
     "name": "stderr",
     "output_type": "stream",
     "text": [
      "C:\\Anaconda\\lib\\site-packages\\ipykernel_launcher.py:2: SettingWithCopyWarning: \n",
      "A value is trying to be set on a copy of a slice from a DataFrame.\n",
      "Try using .loc[row_indexer,col_indexer] = value instead\n",
      "\n",
      "See the caveats in the documentation: http://pandas.pydata.org/pandas-docs/stable/indexing.html#indexing-view-versus-copy\n",
      "  \n",
      "C:\\Anaconda\\lib\\site-packages\\ipykernel_launcher.py:5: FutureWarning: Method .as_matrix will be removed in a future version. Use .values instead.\n",
      "  \"\"\"\n"
     ]
    }
   ],
   "source": [
    "# adding a column filled with string 'na' values in the lat_long_df dataframe\n",
    "lat_long_df[\"ZIPCODE\"] = 'na'\n",
    "\n",
    "# creating numpy array format of the lat_long_df dataframe for faster computing\n",
    "lat_long_matrix = lat_long_df.as_matrix(lat_long_df.columns[0:3])"
   ]
  },
  {
   "cell_type": "code",
   "execution_count": 35,
   "metadata": {},
   "outputs": [],
   "source": [
    "# creating a UDF to search a zipcode based on latitude and longitude values in each array of the matrix\n",
    "\n",
    "# range of index is passed to the function as a and b\n",
    "\n",
    "\n",
    "def enter_zipcode(a,b):\n",
    "    #for each array\n",
    "    for x in lat_long_matrix[a:b,:]:\n",
    "        try:\n",
    "            # 3rd position in each array is reassigned the zipcode value\n",
    "            # since the data structure is not ideal, it is broken down by using indexing and values() function to return 1 zipcode value\n",
    "            x[2] = search.by_coordinates(x[0], x[1], radius=3, returns=1)[0].values()[0]\n",
    "        except:\n",
    "            # if a zipcode cannot be found for a set of coordinates then write 'na' to the zipcode position\n",
    "            x[2] = 'na'"
   ]
  },
  {
   "cell_type": "code",
   "execution_count": 36,
   "metadata": {},
   "outputs": [
    {
     "data": {
      "text/plain": [
       "3912883"
      ]
     },
     "execution_count": 36,
     "metadata": {},
     "output_type": "execute_result"
    }
   ],
   "source": [
    "# for definging the range to pass to the UDF\n",
    "len(lat_long_matrix)"
   ]
  },
  {
   "cell_type": "code",
   "execution_count": 39,
   "metadata": {},
   "outputs": [
    {
     "name": "stdout",
     "output_type": "stream",
     "text": [
      "Wall time: 1h 12min 51s\n"
     ]
    }
   ],
   "source": [
    "%%time\n",
    "# systems crash for values greater than 2.5 million values, so the UDF is called twice to complete the zipcode writing task\n",
    "\n",
    "#this code cell takes 1 hour and 13 mins to run on our systems\n",
    "\n",
    "\n",
    "enter_zipcode(0,2000000)"
   ]
  },
  {
   "cell_type": "code",
   "execution_count": 40,
   "metadata": {},
   "outputs": [
    {
     "name": "stdout",
     "output_type": "stream",
     "text": [
      "Wall time: 1h 9min 52s\n"
     ]
    }
   ],
   "source": [
    "%%time\n",
    "#this code cell takes 1 hour and 10 mins to run on our systems\n",
    "\n",
    "enter_zipcode(2000000, 3912883)"
   ]
  },
  {
   "cell_type": "code",
   "execution_count": 41,
   "metadata": {},
   "outputs": [],
   "source": [
    "# converting the lat_long_mtrix into a dataframe called zip_df\n",
    "\n",
    "zip_df = pd.DataFrame(lat_long_matrix)"
   ]
  },
  {
   "cell_type": "code",
   "execution_count": 42,
   "metadata": {},
   "outputs": [],
   "source": [
    "# assigning the third column of zip_df containing the zipcodes to a new column called 'zipcode' in the temp_raw dataframe\n",
    "\n",
    "temp_raw[\"zipcode\"] = zip_df[2]"
   ]
  },
  {
   "cell_type": "code",
   "execution_count": 46,
   "metadata": {},
   "outputs": [],
   "source": [
    "# removing the rows with 'na' values in the zipcode column and assigning it to a new dataframe variable called final_df\n",
    "final_df = temp_raw[temp_raw['zipcode'] != \"na\"]\n",
    "final_df = final_df[final_df['BORO_NM'].isnull() != True]"
   ]
  },
  {
   "cell_type": "code",
   "execution_count": 47,
   "metadata": {},
   "outputs": [],
   "source": [
    "# subsetting final_df to keep only the columns we need\n",
    "final_df = final_df.iloc[:,[0,1,2,3,4,5,8,9]]"
   ]
  },
  {
   "cell_type": "code",
   "execution_count": 48,
   "metadata": {},
   "outputs": [
    {
     "data": {
      "text/plain": [
       "CMPLNT_NUM               0\n",
       "ADDR_PCT_CD              0\n",
       "KY_CD                    0\n",
       "OFNS_DESC             9576\n",
       "LAW_CAT_CD               0\n",
       "BORO_NM                  0\n",
       "year_for_complaint       0\n",
       "zipcode                  0\n",
       "dtype: int64"
      ]
     },
     "execution_count": 48,
     "metadata": {},
     "output_type": "execute_result"
    }
   ],
   "source": [
    "# describing the final version of the dataframe we need\n",
    "final_df.isna().sum()"
   ]
  },
  {
   "cell_type": "code",
   "execution_count": 49,
   "metadata": {},
   "outputs": [],
   "source": [
    "# converting the 'zipcode' column to integer value to remove the decimal point in each cell\n",
    "final_df['zipcode'] = pd.to_numeric(final_df['zipcode'], downcast='integer')"
   ]
  },
  {
   "cell_type": "code",
   "execution_count": 51,
   "metadata": {},
   "outputs": [],
   "source": [
    "# writing the final_df back to the system with a filename = final_crime_file\n",
    "final_df.to_csv('C:/Users/aniru/Desktop/DWD/final_crime_file.csv', index = False)"
   ]
  },
  {
   "cell_type": "code",
   "execution_count": null,
   "metadata": {},
   "outputs": [],
   "source": []
  },
  {
   "cell_type": "code",
   "execution_count": null,
   "metadata": {},
   "outputs": [],
   "source": []
  },
  {
   "cell_type": "code",
   "execution_count": null,
   "metadata": {},
   "outputs": [],
   "source": []
  },
  {
   "cell_type": "code",
   "execution_count": null,
   "metadata": {},
   "outputs": [],
   "source": []
  },
  {
   "cell_type": "code",
   "execution_count": null,
   "metadata": {},
   "outputs": [],
   "source": []
  },
  {
   "cell_type": "code",
   "execution_count": null,
   "metadata": {},
   "outputs": [],
   "source": []
  },
  {
   "cell_type": "code",
   "execution_count": null,
   "metadata": {},
   "outputs": [],
   "source": []
  },
  {
   "cell_type": "code",
   "execution_count": null,
   "metadata": {},
   "outputs": [],
   "source": []
  },
  {
   "cell_type": "code",
   "execution_count": null,
   "metadata": {},
   "outputs": [],
   "source": []
  },
  {
   "cell_type": "code",
   "execution_count": null,
   "metadata": {},
   "outputs": [],
   "source": []
  },
  {
   "cell_type": "code",
   "execution_count": null,
   "metadata": {},
   "outputs": [],
   "source": []
  },
  {
   "cell_type": "code",
   "execution_count": null,
   "metadata": {},
   "outputs": [],
   "source": []
  },
  {
   "cell_type": "code",
   "execution_count": null,
   "metadata": {},
   "outputs": [],
   "source": []
  },
  {
   "cell_type": "code",
   "execution_count": null,
   "metadata": {},
   "outputs": [],
   "source": []
  },
  {
   "cell_type": "code",
   "execution_count": null,
   "metadata": {},
   "outputs": [],
   "source": []
  },
  {
   "cell_type": "code",
   "execution_count": null,
   "metadata": {},
   "outputs": [],
   "source": []
  },
  {
   "cell_type": "code",
   "execution_count": null,
   "metadata": {},
   "outputs": [],
   "source": []
  }
 ],
 "metadata": {
  "kernelspec": {
   "display_name": "Python 3",
   "language": "python",
   "name": "python3"
  },
  "language_info": {
   "codemirror_mode": {
    "name": "ipython",
    "version": 3
   },
   "file_extension": ".py",
   "mimetype": "text/x-python",
   "name": "python",
   "nbconvert_exporter": "python",
   "pygments_lexer": "ipython3",
   "version": "3.7.0"
  }
 },
 "nbformat": 4,
 "nbformat_minor": 2
}
